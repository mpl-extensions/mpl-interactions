{
 "cells": [
  {
   "cell_type": "markdown",
   "metadata": {},
   "source": [
    "# Image Segmentation of overlayed images and multi-dimensional images"
   ]
  },
  {
   "cell_type": "code",
   "execution_count": null,
   "metadata": {
    "tags": []
   },
   "outputs": [],
   "source": [
    "%matplotlib widget\n",
    "\n",
    "import matplotlib.pyplot as plt\n",
    "import numpy as np\n",
    "\n",
    "%load_ext autoreload\n",
    "%autoreload 2\n",
    "import mpl_interactions as mpl"
   ]
  },
  {
   "cell_type": "code",
   "execution_count": null,
   "metadata": {
    "tags": []
   },
   "outputs": [],
   "source": [
    "# load a primary sample image\n",
    "import urllib\n",
    "\n",
    "import PIL\n",
    "\n",
    "url = \"https://github.com/matplotlib/matplotlib/raw/v3.3.0/lib/matplotlib/mpl-data/sample_data/ada.png\"\n",
    "\n",
    "\n",
    "image = np.sum(np.array(PIL.Image.open(urllib.request.urlopen(url))), axis=2) / 255\n",
    "# simulating multiple slices along the 2 dimension\n",
    "image_stack = np.array([image] * 3).transpose((1, 2, 0))\n",
    "\n",
    "# secondary image\n",
    "url_2 = \"https://github.com/matplotlib/matplotlib/raw/v3.3.0/lib/matplotlib/mpl-data/sample_data/Minduka_Present_Blue_Pack.png\"\n",
    "secondary_image = np.sum(np.array(PIL.Image.open(urllib.request.urlopen(url_2))), axis=2) / 255\n",
    "# padding secondard to be same size as primary for illustration\n",
    "secondary_image_padded = np.pad(\n",
    "    secondary_image,\n",
    "    [\n",
    "        (170, 505),\n",
    "        (150, 234),\n",
    "    ],\n",
    "    mode=\"constant\",\n",
    "    constant_values=(0, 0),\n",
    ")\n",
    "# simulating multiple slices along the 2 dimension\n",
    "secondary_image_stack = np.array([secondary_image_padded] * 3).transpose(1, 2, 0)"
   ]
  },
  {
   "cell_type": "code",
   "execution_count": null,
   "metadata": {},
   "outputs": [],
   "source": [
    "fig, ax = plt.subplots(1, 3, tight_layout=True)\n",
    "ax[0].imshow(image, cmap=\"gray\")\n",
    "ax[1].imshow(secondary_image, cmap=\"magma\")\n",
    "ax[2].imshow(image, cmap=\"gray\")\n",
    "ax[2].imshow(secondary_image_padded, cmap=\"magma\", alpha=0.6)\n",
    "ax[0].set_title(\"Primary image\")\n",
    "ax[1].set_title(\"Secondary image\")\n",
    "ax[2].set_title(\"Overlayed\")"
   ]
  },
  {
   "cell_type": "markdown",
   "metadata": {},
   "source": [
    "# Now segment the secondary image over the primary\n",
    "1. First create a stack of image_segmenter_overlayed objects"
   ]
  },
  {
   "cell_type": "code",
   "execution_count": null,
   "metadata": {},
   "outputs": [],
   "source": [
    "segmenter_stack = mpl.get_segmenter_list(image_stack, secondary_image_stack, n_classes=2)"
   ]
  },
  {
   "cell_type": "markdown",
   "metadata": {},
   "source": [
    "2. Call draw_masks function to open an interactive window where one can draw the masks on the seperate slices"
   ]
  },
  {
   "cell_type": "code",
   "execution_count": null,
   "metadata": {
    "tags": []
   },
   "outputs": [],
   "source": [
    "mpl.draw_masks(segmenter_list=segmenter_stack)"
   ]
  },
  {
   "cell_type": "markdown",
   "metadata": {},
   "source": [
    "3. Retrieve mask values from segmenter_list"
   ]
  },
  {
   "cell_type": "code",
   "execution_count": null,
   "metadata": {},
   "outputs": [],
   "source": [
    "masks_dict = mpl.get_masks(segmenter_stack, plot_res=True)"
   ]
  },
  {
   "cell_type": "markdown",
   "metadata": {},
   "source": [
    "4. Retrieve contours of the masks"
   ]
  },
  {
   "cell_type": "code",
   "execution_count": null,
   "metadata": {},
   "outputs": [],
   "source": [
    "contours = mpl.get_mask_contours(segmenter_stack)"
   ]
  },
  {
   "cell_type": "markdown",
   "metadata": {},
   "source": [
    "5. Plot contours on segmented images"
   ]
  },
  {
   "cell_type": "code",
   "execution_count": null,
   "metadata": {},
   "outputs": [],
   "source": []
  }
 ],
 "metadata": {
  "kernelspec": {
   "display_name": "Python 3 (ipykernel)",
   "language": "python",
   "name": "python3"
  },
  "language_info": {
   "codemirror_mode": {
    "name": "ipython",
    "version": 3
   },
   "file_extension": ".py",
   "mimetype": "text/x-python",
   "name": "python",
   "nbconvert_exporter": "python",
   "pygments_lexer": "ipython3",
   "version": "3.10.9"
  }
 },
 "nbformat": 4,
 "nbformat_minor": 4
}
