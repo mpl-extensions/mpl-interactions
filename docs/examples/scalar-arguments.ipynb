{
 "cells": [
  {
   "cell_type": "markdown",
   "metadata": {},
   "source": [
    "# Using Sliders to control scalar arguments\n",
    "\n",
    "There are often parameters to a matplotlib function that are Scalar. For example `vmin`, and `vmax` for {func}`~matplotlib.pyplot.imshow`, or `x` and `y` for {func}`~matplotlib.pyplot.axvline` and {func}`~matplotlib.pyplot.axhline`. These can be convenient to tie to the value of a single slider. While you can do this by making a function such as:\n",
    "```python\n",
    "def f(*arg, **kwargs):\n",
    "    return kwargs.pop('vmin', 0)\n",
    "```\n",
    "this can be a bit of hassle to do every time. So instead `mpl_interactions` does this for you when you pass an indexed {class}`.Controls` object or a tuple or other abbreviation to a scalar argument.\n"
   ]
  },
  {
   "cell_type": "code",
   "execution_count": null,
   "metadata": {},
   "outputs": [],
   "source": [
    "# %load_ext autoreload\n",
    "%matplotlib ipympl\n",
    "\n",
    "# %autoreload 2\n",
    "import matplotlib.pyplot as plt\n",
    "import numpy as np\n",
    "\n",
    "from mpl_interactions import ipyplot as iplt\n",
    "from mpl_interactions.controller import Controls  # import to make it easier to create"
   ]
  },
  {
   "cell_type": "markdown",
   "metadata": {},
   "source": [
    "## Setting the scalar parameter using a tuple\n",
    "\n",
    "You don't need to pre-create the slider, you can do this directly in the function. Although then the name attached to the slider will be the same as the matplotlib argument. \n",
    "\n",
    "So another way to get the same result as above is to do:"
   ]
  },
  {
   "cell_type": "code",
   "execution_count": null,
   "metadata": {},
   "outputs": [],
   "source": [
    "x = np.random.randn(20)\n",
    "y = 2 * x + np.random.randn(20) / 2\n",
    "\n",
    "fig, ax = plt.subplots()\n",
    "ctrls = iplt.scatter(x, y, s=(10, 1000))"
   ]
  },
  {
   "cell_type": "markdown",
   "metadata": {},
   "source": [
    "## Setting Scalar parameters with an indexed controls\n",
    "\n",
    "You can also pass an indexed controls object directly to a scalar argument. This is a convenient way to link the same slider to multiple different functions."
   ]
  },
  {
   "cell_type": "code",
   "execution_count": null,
   "metadata": {},
   "outputs": [],
   "source": [
    "x2 = np.random.randn(20)\n",
    "y2 = -2 * x2 - np.random.randn(20) / 2\n",
    "\n",
    "\n",
    "fig, ax = plt.subplots()\n",
    "ctrls = iplt.scatter(x, y, s=(10, 1000))\n",
    "_ = iplt.scatter(x2, y2, s=ctrls[\"s\"])"
   ]
  },
  {
   "cell_type": "markdown",
   "metadata": {},
   "source": [
    "## Other names for the sliders\n",
    "\n",
    "If you create the slider to control the scalar by passing a tuple then the slider will always be named according to the matplotlib argument. For example, above the sliders were always named `s`. If you'd like to name them something else then you can precreate the slider.\n",
    "\n",
    "Note that we need to explictl display the controls here because they will only be automatically displayed if they were created by an `iplt` function."
   ]
  },
  {
   "cell_type": "code",
   "execution_count": null,
   "metadata": {},
   "outputs": [],
   "source": [
    "\n",
    "# create the controls object\n",
    "ctrls = Controls(size=(10, 1000))\n",
    "\n",
    "fig, ax = plt.subplots()\n",
    "ctrls = iplt.scatter(x, y, s=ctrls[\"size\"])\n",
    "_ = iplt.scatter(x2, y2, s=ctrls[\"size\"])\n",
    "\n",
    "# ctrls.show()\n",
    "# ctrls.display()\n",
    "# or when in a jupyter notebook\n",
    "display(ctrls)"
   ]
  }
 ],
 "metadata": {
  "kernelspec": {
   "display_name": "Python 3",
   "language": "python",
   "name": "python3"
  },
  "language_info": {
   "codemirror_mode": {
    "name": "ipython",
    "version": 3
   },
   "file_extension": ".py",
   "mimetype": "text/x-python",
   "name": "python",
   "nbconvert_exporter": "python",
   "pygments_lexer": "ipython3",
   "version": "3.9.0"
  }
 },
 "nbformat": 4,
 "nbformat_minor": 4
}
