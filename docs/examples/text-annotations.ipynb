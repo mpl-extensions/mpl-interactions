{
 "cells": [
  {
   "cell_type": "markdown",
   "id": "0",
   "metadata": {},
   "source": [
    "# Text and Annotations\n",
    "\n",
    "\n",
    "```{note}\n",
    "Support for modifying text is not complete as none of the function implemented support updating `fontdict` or other text properties like size and color. However, the core functionality is there to place text, change it's position, or change what it reads. see https://github.com/mpl-extensions/mpl-interactions/issues/247 for updates.\n",
    "```"
   ]
  },
  {
   "cell_type": "code",
   "execution_count": null,
   "id": "1",
   "metadata": {
    "tags": []
   },
   "outputs": [],
   "source": [
    "%matplotlib ipympl\n",
    "import matplotlib.pyplot as plt\n",
    "import numpy as np\n",
    "\n",
    "from mpl_interactions import ipyplot as iplt"
   ]
  },
  {
   "cell_type": "markdown",
   "id": "2",
   "metadata": {},
   "source": [
    "## Working with text strings.\n",
    "\n",
    "There are two ways to dynamically update text strings in mpl-interactions.\n",
    "1. Use a function to return a string\n",
    "2. Use a named string formatting\n",
    "\n",
    "\n",
    "You can also combine these and have your function return a string that then gets formatted.\n",
    "\n",
    "\n",
    "In the example below the `xlabel` is generated using a function and the `title` is generated using the formatting approach."
   ]
  },
  {
   "cell_type": "code",
   "execution_count": null,
   "id": "3",
   "metadata": {
    "tags": []
   },
   "outputs": [],
   "source": [
    "fig, ax = plt.subplots()\n",
    "\n",
    "x = np.linspace(0, np.pi, 100)\n",
    "\n",
    "\n",
    "def y(x, volts, tau):\n",
    "    return np.sin(x * tau) * volts\n",
    "\n",
    "\n",
    "ctrls = iplt.plot(x, y, volts=(0.5, 10), tau=(1, 10, 100))\n",
    "\n",
    "\n",
    "def xlabel_func(tau):\n",
    "    # you can do arbitrary python here to make a more\n",
    "    # complicated string\n",
    "    return f\"Time with a max tau of {np.round(tau, 3)}\"\n",
    "\n",
    "\n",
    "with ctrls[\"tau\"]:\n",
    "    iplt.xlabel(xlabel_func)\n",
    "with ctrls:\n",
    "    # directly using string formatting\n",
    "    # the formatting is performed in the update\n",
    "    iplt.title(title=\"The voltage is {volts:.2f}\")"
   ]
  },
  {
   "cell_type": "markdown",
   "id": "4",
   "metadata": {},
   "source": [
    "## Arbitrarily placed text\n",
    "\n",
    "For this you can use {func}`.interactive_text`. Currently `plt.annotation` is not supported. \n"
   ]
  },
  {
   "cell_type": "code",
   "execution_count": null,
   "id": "5",
   "metadata": {
    "tags": []
   },
   "outputs": [],
   "source": [
    "fig, ax = plt.subplots()\n",
    "\n",
    "theta = np.linspace(0, 2 * np.pi, 100)\n",
    "\n",
    "\n",
    "def gen_string(theta):\n",
    "    return f\"angle = {np.round(np.rad2deg(theta))}\"\n",
    "\n",
    "\n",
    "def fx(theta):\n",
    "    return np.cos(theta)\n",
    "\n",
    "\n",
    "def fy(x, theta):\n",
    "    return np.sin(theta)\n",
    "\n",
    "\n",
    "ctrls = iplt.text(fx, fy, gen_string, theta=theta)\n",
    "ax.set_xlim([-1.25, 1.25])\n",
    "_ = ax.set_ylim([-1.25, 1.25])"
   ]
  },
  {
   "cell_type": "markdown",
   "id": "6",
   "metadata": {
    "jp-MarkdownHeadingCollapsed": true,
    "tags": []
   },
   "source": [
    "Since the `x` and `y` positions are scalars you can also do nifty things like directly define them by a slider shorthand in the function.\n"
   ]
  },
  {
   "cell_type": "code",
   "execution_count": null,
   "id": "7",
   "metadata": {
    "tags": []
   },
   "outputs": [],
   "source": [
    "fig, ax = plt.subplots()\n",
    "ctrls = iplt.text((0, 1, 100), (0.25, 1, 100), \"{x:.2f}, {y:.2f}\")"
   ]
  }
 ],
 "metadata": {
  "kernelspec": {
   "display_name": "Python 3 (ipykernel)",
   "language": "python",
   "name": "python3"
  },
  "language_info": {
   "codemirror_mode": {
    "name": "ipython",
    "version": 3
   },
   "file_extension": ".py",
   "mimetype": "text/x-python",
   "name": "python",
   "nbconvert_exporter": "python",
   "pygments_lexer": "ipython3",
   "version": "3.11.0"
  }
 },
 "nbformat": 4,
 "nbformat_minor": 5
}
