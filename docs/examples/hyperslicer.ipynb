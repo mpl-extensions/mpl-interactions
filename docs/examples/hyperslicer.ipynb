{
 "cells": [
  {
   "cell_type": "markdown",
   "metadata": {},
   "source": [
    "# Hyperslicer Tutorial\n",
    "\n",
    "The {func}`.hyperslicer` creates sliders to select slices of a multidimensional array (a hyperstack). It minimally requires an array whose last two (or three, if using RGB(A) images) dimensions are the image dimensions and all previous dimensions are taken to represent slices of the hyperstack. It will automatically generate sliders that select the the relevant slice along each dimension of the input array.\n",
    "\n",
    "The example here uses a hyperspectral stimulated raman scattering stack of beads that are Raman active at different wavenumbers (No need to worry about the specifics but if you're interested, the experimental setup is very similar to what is described [here](https://pubs.acs.org/doi/abs/10.1021/jp308938t). You can download the dataset from [here](https://github.com/jrussell25/data-sharing/raw/master/srs_beads.npy). The image contains two different bead species made of PMMA and polystyrene of different sizes. Some basic information for viewing and understanding the dataset is given in the table below.\n",
    "\n",
    "\n",
    "| Bead type | Approx. Size | Peak index | Peak wavenumber |\n",
    "------------|--------------|------------|-----------------|\n",
    "PMMA        | 10 µm        | 66         | 2935 cm^(-1)    |\n",
    "Polystyrene | 5 µm         | 111        | 3033 cm^(-1)    |"
   ]
  },
  {
   "cell_type": "code",
   "execution_count": null,
   "metadata": {},
   "outputs": [],
   "source": [
    "import io\n",
    "\n",
    "import matplotlib.pyplot as plt\n",
    "import numpy as np\n",
    "import requests\n",
    "\n",
    "from mpl_interactions import hyperslicer\n",
    "\n",
    "%matplotlib ipympl"
   ]
  },
  {
   "cell_type": "code",
   "execution_count": null,
   "metadata": {},
   "outputs": [],
   "source": [
    "# Get the dataset directly from github\n",
    "response = requests.get(\"https://github.com/jrussell25/data-sharing/raw/master/srs_beads.npy\")\n",
    "response.raise_for_status()\n",
    "beads = np.load(io.BytesIO(response.content))"
   ]
  },
  {
   "cell_type": "code",
   "execution_count": null,
   "metadata": {},
   "outputs": [],
   "source": [
    "print(beads.shape)  # (126, 512, 512)"
   ]
  },
  {
   "cell_type": "code",
   "execution_count": null,
   "metadata": {
    "tags": [
     "remove-output"
    ]
   },
   "outputs": [],
   "source": [
    "# Pass vmin and vmax for 8bit images otherwise the linear intensity slider appears useless\n",
    "fig1, ax1 = plt.subplots()\n",
    "control1 = hyperslicer(beads, vmin=0, vmax=255, play_buttons=True, play_button_pos=\"left\")"
   ]
  },
  {
   "cell_type": "markdown",
   "metadata": {},
   "source": [
    "![](../_static/images/hyperslicer1.gif)"
   ]
  },
  {
   "cell_type": "markdown",
   "metadata": {},
   "source": [
    "`beads4d` adds a linear scale from 0-1 over the intensities at each wavenumber and demonstrates the generalization to higher dimensional stacks."
   ]
  },
  {
   "cell_type": "code",
   "execution_count": null,
   "metadata": {},
   "outputs": [],
   "source": [
    "beads4d = np.linspace(0, 1, 25)[:, None, None, None] * np.stack([beads for i in range(25)])"
   ]
  },
  {
   "cell_type": "code",
   "execution_count": null,
   "metadata": {},
   "outputs": [],
   "source": [
    "print(beads4d.shape)  # (25, 126, 512, 512)"
   ]
  },
  {
   "cell_type": "code",
   "execution_count": null,
   "metadata": {
    "tags": [
     "remove-output"
    ]
   },
   "outputs": [],
   "source": [
    "fig2, ax2 = plt.subplots()\n",
    "controls2 = hyperslicer(beads4d, vmin=0, vmax=255)"
   ]
  },
  {
   "cell_type": "markdown",
   "metadata": {},
   "source": [
    "![](../_static/images/hyperslicer2.gif)"
   ]
  },
  {
   "cell_type": "markdown",
   "metadata": {},
   "source": [
    "### Names and Values for sliders\n",
    "\n",
    "You can also provide names and or limits to map the sliders from the integers to other numbers. For instance in the `beads4d` dataset, we can replace the first dimension with the relative intensity of the image in `[0,1]` and the first dimension with the relevant spectrosocpic values, Raman wavenumbers. \n",
    "\n",
    "The cells below show the two valid ways to generate these hyperslicers, first by passing a start, stop tuple and second by passing a full array containing the slider values. {func}`.hyperslicer` handles mapping these values to indices to slice the data. Either of these options can be mixed with {obj}`None` or simply omitted to generate the default integer valued sliders as above. Separately, you can provide names for each axis to replace the `axis0` style labels used by default.\n",
    "\n",
    "*Note*: Matplotlib sliders currently do not support displaying different values than the slider actually uses internally. Thus for {func}`.hyperslicer` matplotlib sliders must be IntSliders that display the values of the index of the array that you are accessing."
   ]
  },
  {
   "cell_type": "code",
   "execution_count": null,
   "metadata": {},
   "outputs": [],
   "source": [
    "wns = np.linspace(2798.6521739130435, 3064.95652173913, beads4d.shape[1])"
   ]
  },
  {
   "cell_type": "code",
   "execution_count": null,
   "metadata": {
    "tags": [
     "remove-output"
    ]
   },
   "outputs": [],
   "source": [
    "fig3, ax3 = plt.subplots()\n",
    "controls3 = hyperslicer(\n",
    "    beads4d, vmin=0, vmax=255, axis0=(0, 1), axis1=wns, names=(\"linear\", \"wavenums\")\n",
    ")"
   ]
  },
  {
   "cell_type": "markdown",
   "metadata": {},
   "source": [
    "![](../_static/images/hyperslicer3.gif)"
   ]
  },
  {
   "cell_type": "markdown",
   "metadata": {},
   "source": [
    "Instead of specifying the values for each axis and the names separately, one can use the `axes` keyword argument which expects a 2-tuple for each axis containing `(name, (start, stop))` or `(name, slider_value_array)`. Using the axes argument is probably the best way to use {func}`.hyperslicer`."
   ]
  },
  {
   "cell_type": "code",
   "execution_count": null,
   "metadata": {
    "tags": [
     "remove-output"
    ]
   },
   "outputs": [],
   "source": [
    "fig4, ax4 = plt.subplots()\n",
    "controls4 = hyperslicer(beads4d, vmin=0, vmax=255, axes=((\"linear\", (0, 1)), (\"wavenums\", wns)))"
   ]
  },
  {
   "cell_type": "markdown",
   "metadata": {},
   "source": [
    "If you're looking for ImageJ/FIJI type experience, adding play buttons is a nice touch."
   ]
  },
  {
   "cell_type": "code",
   "execution_count": null,
   "metadata": {
    "tags": [
     "remove-output"
    ]
   },
   "outputs": [],
   "source": [
    "fig5, ax5 = plt.subplots()\n",
    "controls5 = hyperslicer(\n",
    "    beads4d,\n",
    "    vmin=0,\n",
    "    vmax=255,\n",
    "    axes=((\"linear\", (0, 1)), (\"wavenums\", wns)),\n",
    "    play_buttons=True,\n",
    "    play_button_pos=\"left\",\n",
    ")"
   ]
  },
  {
   "cell_type": "markdown",
   "metadata": {},
   "source": [
    "![](../_static/images/hyperslicer5.gif)"
   ]
  },
  {
   "cell_type": "markdown",
   "metadata": {},
   "source": [
    "### Other ways of specifying axes\n",
    "\n",
    "All of the below are valid calls to hyperslicer, which generally supports omitting any of the labels or names while falling back to integer valued sliders. If you come across bugs relating to omitting values or passing {obj}`None`, please feel free to [open an issue](https://github.com/mpl-extensions/mpl-interactions/issues)."
   ]
  },
  {
   "cell_type": "code",
   "execution_count": null,
   "metadata": {},
   "outputs": [],
   "source": [
    "fig6, ax6 = plt.subplots()\n",
    "controls6 = hyperslicer(beads4d, vmin=0, vmax=255, axes=((\"linear\", (0, 1)), \"wavenums\"))"
   ]
  },
  {
   "cell_type": "code",
   "execution_count": null,
   "metadata": {},
   "outputs": [],
   "source": [
    "fig7, ax7 = plt.subplots()\n",
    "controls7 = hyperslicer(beads4d, vmin=0, vmax=255, axes=((\"linear\", 0, 1), \"wavenums\"))"
   ]
  },
  {
   "cell_type": "code",
   "execution_count": null,
   "metadata": {},
   "outputs": [],
   "source": [
    "fig8, ax8 = plt.subplots()\n",
    "controls8 = hyperslicer(beads4d, vmin=0, vmax=255, axes=((0, 1), \"wavenums\"))"
   ]
  },
  {
   "cell_type": "markdown",
   "metadata": {},
   "source": [
    "### Hyperslicer with Xarray\n",
    "\n",
    "[Xarray](http://xarray.pydata.org/en/stable/index.html) is a library for having named dimensions on an array and hyperslicer supports them natively. So if you're going to go to the trouble of defining the `axes` argument you might think about just using xarray and doing it once per dataset and letting xarray keep track of them. Then hyperslicer will just access the information for you.\n",
    "\n",
    "Xarray also integrates with dask for lazy data loading so if your data is large this is a good way to process them and now you can selectively visualize these lazy arrays with hyperslicer. Here we will just demonstrate the basics with an in memory xarray but the out of memory case is similar albeit slower to render."
   ]
  },
  {
   "cell_type": "code",
   "execution_count": null,
   "metadata": {},
   "outputs": [],
   "source": [
    "import xarray as xr"
   ]
  },
  {
   "cell_type": "code",
   "execution_count": null,
   "metadata": {},
   "outputs": [],
   "source": [
    "# Define the coordinates for the xarray as a dict of name:array pairs\n",
    "# Intensity is arbiratrily made to be 0-1\n",
    "# Wns = Wns is relevant spectroscopic unit in cm^-1 as above\n",
    "# X,Y = actual dimensions of the images in microns from microscope metadata\n",
    "coords = {\n",
    "    \"linear\": np.linspace(0, 1, beads4d.shape[0]),\n",
    "    \"wavenums\": wns,\n",
    "    \"X\": np.linspace(0, 386.44, 512),\n",
    "    \"Y\": np.linspace(0, 386.44, 512),\n",
    "}"
   ]
  },
  {
   "cell_type": "code",
   "execution_count": null,
   "metadata": {},
   "outputs": [],
   "source": [
    "x_beads4d = xr.DataArray(beads4d, dims=coords.keys(), coords=coords)"
   ]
  },
  {
   "cell_type": "code",
   "execution_count": null,
   "metadata": {
    "tags": [
     "remove-output"
    ]
   },
   "outputs": [],
   "source": [
    "fig9, ax9 = plt.subplots()\n",
    "controls9 = hyperslicer(x_beads4d, vmin=0, vmax=255)"
   ]
  },
  {
   "cell_type": "markdown",
   "metadata": {},
   "source": [
    "![](../_static/images/hyperslicer4.gif)"
   ]
  },
  {
   "cell_type": "markdown",
   "metadata": {},
   "source": [
    "Hyperslicer also supports bare dask arrays with the same logic as numpy arrays."
   ]
  }
 ],
 "metadata": {
  "kernelspec": {
   "display_name": "Python 3 (ipykernel)",
   "language": "python",
   "name": "python3"
  },
  "language_info": {
   "codemirror_mode": {
    "name": "ipython",
    "version": 3
   },
   "file_extension": ".py",
   "mimetype": "text/x-python",
   "name": "python",
   "nbconvert_exporter": "python",
   "pygments_lexer": "ipython3",
   "version": "3.11.0"
  }
 },
 "nbformat": 4,
 "nbformat_minor": 4
}
