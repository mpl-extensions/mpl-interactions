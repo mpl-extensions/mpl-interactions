{
 "cells": [
  {
   "cell_type": "markdown",
   "metadata": {},
   "source": [
    "# Custom Callbacks and Accessing Parameter Values\n",
    "\n",
    "## Custom Callbacks\n",
    "\n",
    "While `mpl_interactions` provides some functions for styling plots it does not cover everything. To allow for a full suite of plot customization or connections to other parts of your code you can register custom callback functions with the {obj}`.Controls` object. "
   ]
  },
  {
   "cell_type": "code",
   "execution_count": null,
   "metadata": {},
   "outputs": [],
   "source": [
    "%matplotlib ipympl\n",
    "import matplotlib.pyplot as plt\n",
    "import numpy as np\n",
    "\n",
    "import mpl_interactions.ipyplot as iplt"
   ]
  },
  {
   "cell_type": "code",
   "execution_count": null,
   "metadata": {},
   "outputs": [],
   "source": [
    "# define the function\n",
    "\n",
    "\n",
    "def f(x, tau, beta):\n",
    "    return np.sin(x * tau) * beta\n",
    "\n",
    "\n",
    "x = np.linspace(0, 2 * np.pi, 1000)\n",
    "tau = np.linspace(5, 10)\n",
    "beta = np.linspace(0.25, 1)"
   ]
  },
  {
   "cell_type": "code",
   "execution_count": null,
   "metadata": {},
   "outputs": [],
   "source": [
    "# make the interactive figure\n",
    "\n",
    "fig, ax = plt.subplots()\n",
    "controls = iplt.plot(x, f, tau=tau, beta=beta)\n",
    "\n",
    "# attach a custom callback\n",
    "\n",
    "# if running from a script you can just delete the widgets.Output and associated code\n",
    "\n",
    "import ipywidgets as widgets\n",
    "\n",
    "out = widgets.Output()\n",
    "display(out)\n",
    "\n",
    "\n",
    "def my_callback(beta):\n",
    "    with out:\n",
    "        print(f\"beta is: {beta}!!!\")\n",
    "\n",
    "\n",
    "controls.register_callback(my_callback, \"beta\")"
   ]
  },
  {
   "cell_type": "markdown",
   "metadata": {},
   "source": [
    "### Calling the callback on registration\n",
    "\n",
    "Sometimes you may want the callback to be called as soon as you register it. To accomplish this use the `eager` argument. This can be useful when your callback styles the plot based on the current parameters and you want the initial plot to be subject to this styling.\n"
   ]
  },
  {
   "cell_type": "code",
   "execution_count": null,
   "metadata": {},
   "outputs": [],
   "source": [
    "fig, ax = plt.subplots()\n",
    "controls = iplt.plot(x, f, tau=tau, beta=beta)\n",
    "\n",
    "# attach a custom callback\n",
    "\n",
    "# if running from a script you can just delete the widgets.Output and associated code\n",
    "out = widgets.Output()\n",
    "display(out)\n",
    "\n",
    "\n",
    "def my_callback(beta):\n",
    "    with out:\n",
    "        print(f\"beta is: {beta}!!!\")\n",
    "\n",
    "\n",
    "controls.register_callback(my_callback, \"beta\", eager=True)"
   ]
  },
  {
   "cell_type": "markdown",
   "metadata": {},
   "source": [
    "### Accepting multiple parameters\n",
    "\n",
    "To accept multiple parameters use a {obj}`list` for the `params` argument to {meth}`.register_callback`."
   ]
  },
  {
   "cell_type": "code",
   "execution_count": null,
   "metadata": {},
   "outputs": [],
   "source": [
    "fig, ax = plt.subplots()\n",
    "controls = iplt.plot(x, f, tau=tau, beta=beta)\n",
    "\n",
    "# attach a custom callback\n",
    "\n",
    "# if running from a script you can just delete the widgets.Output and associated code\n",
    "out2 = widgets.Output()\n",
    "display(out2)\n",
    "\n",
    "\n",
    "def my_callback(tau, beta):\n",
    "    with out2:\n",
    "        print(f\"beta is: {beta}!!!\")\n",
    "        print(f\"tau is: {tau}\")\n",
    "        print(\":O\")\n",
    "\n",
    "\n",
    "controls.register_callback(my_callback, [\"tau\", \"beta\"])"
   ]
  },
  {
   "cell_type": "markdown",
   "metadata": {},
   "source": [
    "### A more complex callback\n",
    "\n",
    "You can put arbitrary python code into these callbacks. This means that you can do complex things like styling the plot in arbitrary ways that would not be easy to achieve with the functions provided by `mpl_interactions`. Here we will change the color of the `x_ticks` and `y_ticks` conditional on the values of `tau` and `beta`"
   ]
  },
  {
   "cell_type": "code",
   "execution_count": null,
   "metadata": {},
   "outputs": [],
   "source": [
    "fig, ax = plt.subplots()\n",
    "controls = iplt.plot(x, f, tau=tau, beta=beta)\n",
    "\n",
    "# attach a custom callback\n",
    "\n",
    "# if running from a script you can just delete the widgets.Output and associated code\n",
    "\n",
    "\n",
    "def my_callback(tau, beta):\n",
    "    if tau < 7.5:\n",
    "        ax.tick_params(axis=\"x\", colors=\"red\")\n",
    "    else:\n",
    "        ax.tick_params(axis=\"x\", colors=\"black\")\n",
    "\n",
    "    if beta < 0.5:\n",
    "        ax.tick_params(axis=\"y\", colors=\"black\")\n",
    "    else:\n",
    "        ax.tick_params(axis=\"y\", colors=\"blue\")\n",
    "\n",
    "\n",
    "controls.register_callback(my_callback, [\"tau\", \"beta\"], eager=True)"
   ]
  },
  {
   "cell_type": "markdown",
   "metadata": {},
   "source": [
    "## Accessing parameters\n",
    "\n",
    "After manually tuning the sliders you may want to access the values you have chosen permanently for usage in other parts of you code. The current parameter values are stored in a dictionary in the controls object that can be accessed by {attr}`.Controls.params`."
   ]
  }
 ],
 "metadata": {
  "kernelspec": {
   "display_name": "Python 3",
   "language": "python",
   "name": "python3"
  },
  "language_info": {
   "codemirror_mode": {
    "name": "ipython",
    "version": 3
   },
   "file_extension": ".py",
   "mimetype": "text/x-python",
   "name": "python",
   "nbconvert_exporter": "python",
   "pygments_lexer": "ipython3",
   "version": "3.9.1"
  }
 },
 "nbformat": 4,
 "nbformat_minor": 4
}
