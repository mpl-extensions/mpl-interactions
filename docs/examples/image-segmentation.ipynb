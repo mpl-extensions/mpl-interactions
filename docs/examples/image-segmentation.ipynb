{
 "cells": [
  {
   "cell_type": "markdown",
   "metadata": {},
   "source": [
    "# Image Segmentation"
   ]
  },
  {
   "cell_type": "code",
   "execution_count": null,
   "metadata": {
    "tags": []
   },
   "outputs": [],
   "source": [
    "%matplotlib ipympl\n",
    "import matplotlib.cbook as cbook\n",
    "import matplotlib.pyplot as plt\n",
    "import numpy as np\n",
    "\n",
    "from mpl_interactions import image_segmenter"
   ]
  },
  {
   "cell_type": "code",
   "execution_count": null,
   "metadata": {
    "tags": []
   },
   "outputs": [],
   "source": [
    "# load a sample image\n",
    "import urllib\n",
    "\n",
    "import PIL\n",
    "\n",
    "url = \"https://github.com/matplotlib/matplotlib/raw/v3.3.0/lib/matplotlib/mpl-data/sample_data/ada.png\"\n",
    "image = np.array(PIL.Image.open(urllib.request.urlopen(url)))"
   ]
  },
  {
   "cell_type": "markdown",
   "metadata": {},
   "source": [
    "## Single class\n",
    "\n",
    "Click and drag to select regions. You can also scroll to zoom and middle click to pan.\n"
   ]
  },
  {
   "cell_type": "code",
   "execution_count": null,
   "metadata": {
    "tags": [
     "remove-output"
    ]
   },
   "outputs": [],
   "source": [
    "segmenter = image_segmenter(image, mask_colors=\"red\", mask_alpha=0.76, figsize=(7, 7))\n",
    "display(segmenter)"
   ]
  },
  {
   "cell_type": "markdown",
   "metadata": {},
   "source": [
    "![](../_static/images/segment.gif)"
   ]
  },
  {
   "cell_type": "code",
   "execution_count": null,
   "metadata": {
    "tags": []
   },
   "outputs": [],
   "source": [
    "segmenter.erasing = True"
   ]
  },
  {
   "cell_type": "markdown",
   "metadata": {},
   "source": [
    "### Erasing\n",
    "\n",
    "To start erasing instead of selecting more simply set `segmenter.erasing = True`. Run the following cell then try to lasso an area you have already selected"
   ]
  },
  {
   "cell_type": "markdown",
   "metadata": {},
   "source": [
    "## Looking at the mask.\n",
    "\n",
    "The mask is transparently accessible via {obj}`.image_segmenter.mask`. `0` is used as the value of unselected regions."
   ]
  },
  {
   "cell_type": "code",
   "execution_count": null,
   "metadata": {
    "tags": []
   },
   "outputs": [],
   "source": [
    "segmenter.mask"
   ]
  },
  {
   "cell_type": "code",
   "execution_count": null,
   "metadata": {
    "tags": []
   },
   "outputs": [],
   "source": [
    "plt.figure()\n",
    "plt.imshow(segmenter.mask)"
   ]
  },
  {
   "cell_type": "markdown",
   "metadata": {},
   "source": [
    "## Multiple classes\n",
    "\n",
    "To use multiple classes set nclasses to be larger than 1. By default the tab10 color set will be used, and if that is not enough the xkcd color named colors will be used. Or you can pass a list of colors."
   ]
  },
  {
   "cell_type": "code",
   "execution_count": null,
   "metadata": {
    "tags": []
   },
   "outputs": [],
   "source": [
    "multi_class_segmenter = image_segmenter(image, nclasses=3, mask_alpha=0.76)\n",
    "display(multi_class_segmenter)"
   ]
  },
  {
   "cell_type": "markdown",
   "metadata": {},
   "source": [
    "### Change the class by changing the `current_class` variable\n",
    "\n",
    "run the below cell and then try selecting again"
   ]
  },
  {
   "cell_type": "code",
   "execution_count": null,
   "metadata": {
    "tags": []
   },
   "outputs": [],
   "source": [
    "multi_class_segmenter.current_class = 3"
   ]
  },
  {
   "cell_type": "code",
   "execution_count": null,
   "metadata": {
    "tags": []
   },
   "outputs": [],
   "source": [
    "plt.figure()\n",
    "plt.imshow(multi_class_segmenter.mask)"
   ]
  },
  {
   "cell_type": "markdown",
   "metadata": {},
   "source": [
    "### Integration with ipywidgets\n",
    "\n",
    "To reduce friction in the labelling workflow you can construct controls for the currently selected class and whether to be in erasing mode using ipywidgets."
   ]
  },
  {
   "cell_type": "code",
   "execution_count": null,
   "metadata": {
    "tags": []
   },
   "outputs": [],
   "source": [
    "import ipywidgets as widgets\n",
    "\n",
    "N_classes = 3\n",
    "class_selector = widgets.Dropdown(options=list(range(1, N_classes + 1)), description=\"class\")\n",
    "\n",
    "\n",
    "def update(change):\n",
    "    multi_class_segmenter.current_class = class_selector.value\n",
    "    multi_class_segmenter.erasing = erasing_button.value\n",
    "\n",
    "\n",
    "erasing_button = widgets.Checkbox(value=False, description=\"Erasing\")\n",
    "erasing_button.observe(update, names=\"value\")\n",
    "\n",
    "class_selector.observe(update, names=\"value\")\n",
    "multi_class_segmenter = image_segmenter(image, nclasses=3, mask_alpha=0.76)\n",
    "display(widgets.HBox([erasing_button, class_selector]))\n",
    "display(multi_class_segmenter)"
   ]
  },
  {
   "cell_type": "markdown",
   "metadata": {},
   "source": [
    "### pre-seed a mask\n",
    "\n",
    "You can also load an existing mask. You will need to ensure that it does not have values greater than `nclasses` and that it has the same shape as the image. There are currently no safegaurds for this and when there are exceptions in a matplotlib callback they can be hard to see in the notebook - so be careful!\n",
    "\n",
    "\n",
    "If you run the below cell the image should show up with the premade mask already applied!"
   ]
  },
  {
   "cell_type": "code",
   "execution_count": null,
   "metadata": {
    "tags": [
     "remove-output"
    ]
   },
   "outputs": [],
   "source": [
    "mask = np.load(\"ada-mask.npy\")\n",
    "preloaded = image_segmenter(image, nclasses=3, mask=mask)\n",
    "display(preloaded)"
   ]
  },
  {
   "cell_type": "markdown",
   "metadata": {},
   "source": [
    "![](../_static/images/segment-preload-mask.png)"
   ]
  },
  {
   "cell_type": "markdown",
   "metadata": {},
   "source": [
    "## Styling\n",
    "\n",
    "\n",
    "### imshow parameters\n",
    "\n",
    "You can modify the display of the image using any kwargs accepted the [imshow](https://matplotlib.org/api/_as_gen/matplotlib.pyplot.imshow.html) command. For example if we convert our example image to gray-scale then we can choose the colormap with the `cmap` argument."
   ]
  },
  {
   "cell_type": "code",
   "execution_count": null,
   "metadata": {
    "tags": []
   },
   "outputs": [],
   "source": [
    "from ipywidgets import HBox\n",
    "\n",
    "grayscale_image = image.mean(axis=-1)\n",
    "gray = image_segmenter(grayscale_image, nclasses=3, mask=mask, figsize=(5, 5), cmap=\"gray\")\n",
    "display(gray)\n",
    "plasma = image_segmenter(grayscale_image, nclasses=3, mask=mask, figsize=(5, 5), cmap=\"plasma\")\n",
    "display(plasma)"
   ]
  },
  {
   "cell_type": "markdown",
   "metadata": {},
   "source": [
    "## LassoSelector line\n",
    "\n",
    "You can change the appearance of the LassoSelector line using the `props` kwarg (or `lineprops` in matplotlib <3.7). So to make the line very thick and red:"
   ]
  },
  {
   "cell_type": "code",
   "execution_count": null,
   "metadata": {
    "tags": []
   },
   "outputs": [],
   "source": [
    "props = {\"color\": \"red\", \"linewidth\": 10}\n",
    "gray = image_segmenter(\n",
    "    grayscale_image, nclasses=3, mask=mask, figsize=(5, 5), cmap=\"gray\", props=props\n",
    ")\n",
    "display(gray)"
   ]
  },
  {
   "cell_type": "code",
   "execution_count": null,
   "metadata": {},
   "outputs": [],
   "source": []
  }
 ],
 "metadata": {
  "kernelspec": {
   "display_name": "Python 3 (ipykernel)",
   "language": "python",
   "name": "python3"
  },
  "language_info": {
   "codemirror_mode": {
    "name": "ipython",
    "version": 3
   },
   "file_extension": ".py",
   "mimetype": "text/x-python",
   "name": "python",
   "nbconvert_exporter": "python",
   "pygments_lexer": "ipython3",
   "version": "3.9.9"
  }
 },
 "nbformat": 4,
 "nbformat_minor": 4
}
