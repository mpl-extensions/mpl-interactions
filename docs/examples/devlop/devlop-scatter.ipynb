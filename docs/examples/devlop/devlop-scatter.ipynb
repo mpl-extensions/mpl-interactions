{
 "cells": [
  {
   "cell_type": "markdown",
   "metadata": {},
   "source": [
    "## Danger zone. This notebook is just here to be convenient for development"
   ]
  },
  {
   "cell_type": "code",
   "execution_count": null,
   "metadata": {},
   "outputs": [],
   "source": [
    "%matplotlib ipympl\n",
    "import ipywidgets as widgets\n",
    "import matplotlib.pyplot as plt\n",
    "import numpy as np\n",
    "\n",
    "%load_ext autoreload\n",
    "%autoreload 2\n",
    "from mpl_interactions import *"
   ]
  },
  {
   "cell_type": "code",
   "execution_count": null,
   "metadata": {},
   "outputs": [],
   "source": [
    "plt.close()\n",
    "fig, ax = plt.subplots()\n",
    "zoom_factory(ax)\n",
    "ph = panhandler(fig)\n",
    "N = 50\n",
    "x = np.random.rand(N)\n",
    "y = np.random.rand(N)\n",
    "colors = np.random.rand(N)\n",
    "area = (30 * np.random.rand(N)) ** 2  # 0 to 15 point radii\n",
    "\n",
    "scat = plt.scatter(x, y, s=area, c=colors, alpha=0.5, label=\"yikes\", cmap=\"viridis\")\n",
    "plt.legend()\n",
    "plt.show()"
   ]
  },
  {
   "cell_type": "code",
   "execution_count": null,
   "metadata": {},
   "outputs": [],
   "source": [
    "x_new = np.random.randn(N + 1000)\n",
    "y_new = np.random.randn(N + 1000)\n",
    "\n",
    "new = np.array([x_new, y_new]).T\n",
    "scat.set_offsets(new)"
   ]
  },
  {
   "cell_type": "code",
   "execution_count": null,
   "metadata": {},
   "outputs": [],
   "source": [
    "def f(mean):\n",
    "    \"\"\"\n",
    "    should be able to return either:\n",
    "    x, y\n",
    "\n",
    "    or arr where arr.shape = (N, 2 )\n",
    "    I should check that\n",
    "    \"\"\"\n",
    "    print(mean)\n",
    "    x = np.random.rand(N) * mean\n",
    "    y = np.random.rand(N) * mean\n",
    "    return x, y"
   ]
  },
  {
   "cell_type": "code",
   "execution_count": null,
   "metadata": {},
   "outputs": [],
   "source": [
    "fig, ax = plt.subplots()\n",
    "zoom_factory(ax)\n",
    "ph = panhandler(fig)\n",
    "N = 50\n",
    "x = np.random.rand(N)\n",
    "y = np.random.rand(N)\n",
    "colors = np.random.rand(N)\n",
    "area = (30 * np.random.rand(N)) ** 2  # 0 to 15 point radii\n",
    "\n",
    "scat = plt.scatter(x, y, s=area, c=colors, alpha=0.5, label=\"yikes\")\n",
    "plt.legend()\n",
    "plt.show()"
   ]
  },
  {
   "cell_type": "code",
   "execution_count": null,
   "metadata": {},
   "outputs": [],
   "source": [
    "slider = widgets.FloatSlider(min=-0.5, max=1.5, step=0.01)\n",
    "ax.plot([-10, 10], [0, 10])\n",
    "\n",
    "\n",
    "def update(change):\n",
    "    #     print(change)\n",
    "    out = f(change[\"new\"])\n",
    "\n",
    "    out = np.asanyarray(out)\n",
    "    if out.shape[0] == 2 and out.shape[1] != 2:\n",
    "        # check if transpose is necessary\n",
    "        # but not way to check if shape is 2x2\n",
    "        out = out.T\n",
    "    #     print(out.shape)\n",
    "    scat.set_offsets(out)\n",
    "    #     ax.ignore_existing_data_limits = True\n",
    "    ax.update_datalim(scat.get_datalim(ax.transData))\n",
    "    ax.autoscale_view()\n",
    "\n",
    "    fig.canvas.draw()\n",
    "\n",
    "\n",
    "slider.observe(update, names=[\"value\"])\n",
    "slider"
   ]
  },
  {
   "cell_type": "code",
   "execution_count": null,
   "metadata": {},
   "outputs": [],
   "source": [
    "import matplotlib.pyplot as plt\n",
    "import numpy as np\n",
    "from ipywidgets import widgets\n",
    "\n",
    "x = np.arange(10)\n",
    "\n",
    "fig, ax = plt.subplots()\n",
    "scatter = ax.scatter(x, x, label=\"y = a*x+b\")\n",
    "\n",
    "ax.legend()\n",
    "\n",
    "line = ax.plot([-10, 10], [0, 1])[0]\n",
    "\n",
    "\n",
    "def update_plot(a, b):\n",
    "    y = a * x + b\n",
    "    scatter.set_offsets(np.c_[x, y])\n",
    "    line.set_data(x - 3, y)\n",
    "\n",
    "    ax.relim()\n",
    "    ax.ignore_existing_data_limits = True\n",
    "    ax.update_datalim(scatter.get_datalim(ax.transData))\n",
    "    ax.autoscale_view()\n",
    "\n",
    "    fig.canvas.draw_idle()\n",
    "\n",
    "\n",
    "a = widgets.FloatSlider(min=0.5, max=4, value=1, description=\"a:\")\n",
    "b = widgets.FloatSlider(min=0, max=40, value=10, description=\"b:\")\n",
    "\n",
    "widgets.interactive(update_plot, a=a, b=b)"
   ]
  },
  {
   "cell_type": "code",
   "execution_count": null,
   "metadata": {},
   "outputs": [],
   "source": [
    "N = 50\n",
    "\n",
    "\n",
    "def f(mean):\n",
    "    x = np.random.rand(N) + mean\n",
    "    y = np.random.rand(N) + mean\n",
    "    return x, y\n",
    "\n",
    "\n",
    "def f2(mean):\n",
    "    x = np.random.rand(N) - mean\n",
    "    y = np.random.rand(N) - mean\n",
    "    return x, y\n",
    "\n",
    "\n",
    "blarg = interactive_scatter([f, f2], mean=(0, 1, 100), c=[np.random.randn(N), np.random.randn(N)])"
   ]
  },
  {
   "cell_type": "code",
   "execution_count": null,
   "metadata": {},
   "outputs": [],
   "source": [
    "N = 50\n",
    "\n",
    "\n",
    "def f(mean):\n",
    "    x = np.random.rand(N) + mean - 0.5\n",
    "    y = np.random.rand(N) + mean - 0.5\n",
    "    return x, y\n",
    "\n",
    "\n",
    "def c_func(x, y, mean):\n",
    "    return x\n",
    "\n",
    "\n",
    "def s_func(x, y, mean):\n",
    "    return 40 / x\n",
    "\n",
    "\n",
    "def ec_func(x, y, mean):\n",
    "    if np.random.rand() > 0.5:\n",
    "        return \"black\"\n",
    "    else:\n",
    "        return \"red\"\n",
    "\n",
    "\n",
    "blarg = interactive_scatter(f, mean=(0, 1, 100), c=c_func, s=s_func, alpha=0.9, edgecolors=ec_func)"
   ]
  },
  {
   "cell_type": "code",
   "execution_count": null,
   "metadata": {},
   "outputs": [],
   "source": [
    "def alpha_func(mean):\n",
    "    return mean / 1\n",
    "\n",
    "\n",
    "blarg2 = interactive_scatter(\n",
    "    (x, y), mean=(0, 1, 100), c=c_func, s=s_func, alpha=alpha_func, edgecolors=ec_func\n",
    ")"
   ]
  },
  {
   "cell_type": "code",
   "execution_count": null,
   "metadata": {},
   "outputs": [],
   "source": [
    "N = 500\n",
    "\n",
    "\n",
    "def f(mean):\n",
    "    x = (np.random.rand(N) - 0.5) + mean\n",
    "    y = 10 * (np.random.rand(N) - 0.5) + mean\n",
    "    return x, y\n",
    "\n",
    "\n",
    "(x, y) = f(0.5)\n",
    "\n",
    "\n",
    "def threshold(x, y, mean):\n",
    "    colors = np.zeros((len(x), 4))\n",
    "    colors[:, -1] = 1\n",
    "    deltas = np.abs(y - mean)\n",
    "    idx = deltas < 0.01\n",
    "    deltas /= deltas.max()\n",
    "    colors[~idx, -1] = np.clip(0.8 - deltas[~idx], 0, 1)\n",
    "    #     print(colors)\n",
    "    return colors\n",
    "\n",
    "\n",
    "blarg2 = interactive_scatter((x, y), mean=(0, 1, 100), c=threshold)"
   ]
  },
  {
   "cell_type": "code",
   "execution_count": null,
   "metadata": {},
   "outputs": [],
   "source": [
    "from inspect import signature\n",
    "\n",
    "\n",
    "def someMethod(arg1, kwarg1=None):\n",
    "    pass\n",
    "\n",
    "\n",
    "sig = signature(someMethod)"
   ]
  },
  {
   "cell_type": "code",
   "execution_count": null,
   "metadata": {},
   "outputs": [],
   "source": [
    "len(sig.parameters)"
   ]
  },
  {
   "cell_type": "code",
   "execution_count": null,
   "metadata": {},
   "outputs": [],
   "source": [
    "from matplotlib.colors import is_color_like\n",
    "\n",
    "is_color_like(threshold(x, y, 4)[0])"
   ]
  },
  {
   "cell_type": "code",
   "execution_count": null,
   "metadata": {},
   "outputs": [],
   "source": [
    "scats.setscat.cmap([[0], [1], [23]]).shape"
   ]
  },
  {
   "cell_type": "code",
   "execution_count": null,
   "metadata": {},
   "outputs": [],
   "source": [
    "scat.cmap??"
   ]
  },
  {
   "cell_type": "code",
   "execution_count": null,
   "metadata": {},
   "outputs": [],
   "source": [
    "from matplotlib import colors as mcolors"
   ]
  },
  {
   "cell_type": "code",
   "execution_count": null,
   "metadata": {},
   "outputs": [],
   "source": [
    "mcolors.to_rgba_array(\"red\")"
   ]
  }
 ],
 "metadata": {
  "kernelspec": {
   "display_name": "Python 3",
   "language": "python",
   "name": "python3"
  },
  "language_info": {
   "codemirror_mode": {
    "name": "ipython",
    "version": 3
   },
   "file_extension": ".py",
   "mimetype": "text/x-python",
   "name": "python",
   "nbconvert_exporter": "python",
   "pygments_lexer": "ipython3",
   "version": "3.7.8"
  }
 },
 "nbformat": 4,
 "nbformat_minor": 4
}
