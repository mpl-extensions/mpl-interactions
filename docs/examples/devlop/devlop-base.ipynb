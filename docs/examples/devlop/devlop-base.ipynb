{
 "cells": [
  {
   "cell_type": "code",
   "execution_count": null,
   "metadata": {
    "tags": []
   },
   "outputs": [],
   "source": [
    "%matplotlib ipympl\n",
    "import ipywidgets as widgets\n",
    "import matplotlib.pyplot as plt\n",
    "import numpy as np\n",
    "\n",
    "%load_ext autoreload\n",
    "%autoreload 2\n",
    "import mpl_interactions.ipyplot as iplt\n",
    "from mpl_interactions import *"
   ]
  },
  {
   "cell_type": "code",
   "execution_count": null,
   "metadata": {
    "tags": []
   },
   "outputs": [],
   "source": [
    "import matplotlib.pyplot as plt\n",
    "import numpy as np\n",
    "import xarray as xr\n",
    "\n",
    "from mpl_interactions import hyperslicer\n",
    "\n",
    "arr = np.zeros([10, 150, 200])\n",
    "arr[:, 50:100, 50:150] = 1\n",
    "\n",
    "arr_xr = xr.DataArray(arr, dims=(\"whatever\", \"y\", \"x\"))\n",
    "\n",
    "fig, axs = plt.subplots(2, 2)\n",
    "\n",
    "im_upper = axs[0, 0].imshow(arr[0], origin=\"upper\")\n",
    "axs[0, 0].set_title(\"imshow - upper\")\n",
    "axs[0, 1].set_title(\"hypeslicer - upper\")\n",
    "x = np.linspace(0, 100)\n",
    "axs[0, 0].scatter(x, x)\n",
    "axs[0, 1].scatter(x, x)\n",
    "ctrls = hyperslicer(arr_xr, ax=axs[0, 1], origin=\"upper\")\n",
    "\n",
    "im_lower = axs[1, 0].imshow(arr[0], origin=\"lower\")\n",
    "axs[1, 0].set_title(\"imshow - lower\")\n",
    "x = np.linspace(0, 100)\n",
    "axs[1, 0].scatter(x, x)\n",
    "axs[1, 1].scatter(x, x)\n",
    "axs[1, 1].set_title(\"hyperslicer - lower\")\n",
    "ctrls2 = hyperslicer(arr_xr, ax=axs[1, 1], origin=\"lower\")\n",
    "plt.tight_layout()"
   ]
  },
  {
   "cell_type": "code",
   "execution_count": null,
   "metadata": {
    "tags": []
   },
   "outputs": [],
   "source": [
    "axs.flatten()"
   ]
  },
  {
   "cell_type": "code",
   "execution_count": null,
   "metadata": {
    "tags": []
   },
   "outputs": [],
   "source": [
    "for ax in axs.flatten():\n",
    "    print(ax.get_xlim())\n",
    "    print(ax.get_ylim())\n",
    "    print(\"------------\")"
   ]
  },
  {
   "cell_type": "code",
   "execution_count": null,
   "metadata": {
    "tags": []
   },
   "outputs": [],
   "source": [
    "im_lower.get_extent()"
   ]
  },
  {
   "cell_type": "code",
   "execution_count": null,
   "metadata": {
    "tags": []
   },
   "outputs": [],
   "source": [
    "def hyperslicer_1d(arr, split_dim=None, **kwargs):\n",
    "    arr = np.asanyarray(arr)\n",
    "    if split_dim == -1 or split_dim == arr.ndim:\n",
    "        raise ValueError(\"nope split_dim must not be the last axis\")\n",
    "    axes = {}\n",
    "    for i, s in enumerate(arr.shape[:-1]):\n",
    "        axes[f\"axis_{i}\"] = np.arange(s)\n",
    "    slices = [0 for i in range(arr.ndim - 1)]\n",
    "    slices.append(slice(None))\n",
    "\n",
    "    def picker(**kwargs):\n",
    "        for i in range(arr.ndim - 1):\n",
    "            slices[i] = int(kwargs[f\"axis_{i}\"])\n",
    "        if split_dim is not None:\n",
    "            slices[split_dim] = slice(None)\n",
    "        return arr[tuple(slices)].T\n",
    "\n",
    "    ctrls = kwargs.get(\"controls\", None)\n",
    "    if ctrls:\n",
    "        return iplt.plot(picker, **kwargs)\n",
    "    else:\n",
    "        return iplt.plot(picker, **axes, **kwargs)"
   ]
  },
  {
   "cell_type": "code",
   "execution_count": null,
   "metadata": {
    "tags": []
   },
   "outputs": [],
   "source": [
    "arr1 = np.random.rand(11, 1340)\n",
    "arr2 = np.random.rand(11, 1340)"
   ]
  },
  {
   "cell_type": "code",
   "execution_count": null,
   "metadata": {
    "tags": []
   },
   "outputs": [],
   "source": [
    "plt.subplots()\n",
    "ctrls = hyperslicer_1d(arr1)\n",
    "hyperslicer_1d(arr2, controls=ctrls)"
   ]
  },
  {
   "cell_type": "code",
   "execution_count": null,
   "metadata": {
    "tags": []
   },
   "outputs": [],
   "source": [
    "import matplotlib.pyplot as plt\n",
    "import numpy as np\n",
    "import xarray as xr\n",
    "\n",
    "from mpl_interactions import hyperslicer\n",
    "\n",
    "arr = np.zeros([10, 150, 200])\n",
    "arr[:, 50:100, 50:150] = 1\n",
    "\n",
    "\n",
    "fig, axs = plt.subplots(1, 2)\n",
    "\n",
    "with hyperslicer(arr, ax=axs[0]) as ctrls:\n",
    "    hyperslicer(arr, ax=axs[1])"
   ]
  },
  {
   "cell_type": "code",
   "execution_count": null,
   "metadata": {},
   "outputs": [],
   "source": []
  }
 ],
 "metadata": {
  "kernelspec": {
   "display_name": "Python 3 (ipykernel)",
   "language": "python",
   "name": "python3"
  },
  "language_info": {
   "codemirror_mode": {
    "name": "ipython",
    "version": 3
   },
   "file_extension": ".py",
   "mimetype": "text/x-python",
   "name": "python",
   "nbconvert_exporter": "python",
   "pygments_lexer": "ipython3",
   "version": "3.11.0"
  }
 },
 "nbformat": 4,
 "nbformat_minor": 4
}
