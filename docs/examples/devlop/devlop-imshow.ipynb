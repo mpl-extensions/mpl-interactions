{
 "cells": [
  {
   "cell_type": "code",
   "execution_count": null,
   "metadata": {},
   "outputs": [],
   "source": [
    "%matplotlib ipympl\n",
    "import matplotlib.pyplot as plt\n",
    "import numpy as np\n",
    "\n",
    "%load_ext autoreload\n",
    "%autoreload 2\n",
    "from mpl_interactions import *"
   ]
  },
  {
   "cell_type": "code",
   "execution_count": null,
   "metadata": {},
   "outputs": [],
   "source": [
    "\n",
    "parameter1 = np.linspace(-5, 5)\n",
    "parameter2 = np.linspace(-5, 5, 25)\n",
    "x = np.linspace(0, np.pi, 200)\n",
    "y = np.linspace(0, 10, 200)\n",
    "X, Y = np.meshgrid(x, y)\n",
    "image_stack1 = np.sin(X)[None, :, :] + np.exp(np.cos(Y[None, :, :] * parameter1[:, None, None]))\n",
    "print(f\"image_stack1.shape : {image_stack1.shape}\")\n",
    "# image_stack1.shape : (50, 200, 200)\n",
    "\n",
    "# create another image stack with shape (50, 25, 200, 200)\n",
    "image_stack2 = (\n",
    "    np.sin(X)[None, None, :, :] * parameter2[:, None, None]\n",
    "    + np.exp(np.cos(Y[None, :, :] * parameter1[:, None, None]))[:, None, ...]\n",
    ")\n",
    "print(f\"image_stack2.shape : {image_stack2.shape}\")\n",
    "# image_stack2.shape : (50, 25, 200, 200)"
   ]
  },
  {
   "cell_type": "code",
   "execution_count": null,
   "metadata": {},
   "outputs": [],
   "source": [
    "fig, ax = plt.subplots()\n",
    "im = ax.imshow(image_stack1[0])"
   ]
  },
  {
   "cell_type": "code",
   "execution_count": null,
   "metadata": {},
   "outputs": [],
   "source": [
    "im.norm.vmin = 4"
   ]
  },
  {
   "cell_type": "code",
   "execution_count": null,
   "metadata": {},
   "outputs": [],
   "source": [
    "arr = image_stack1[0] + 15\n",
    "im.set_data(arr)\n",
    "# im.norm.autoscale(arr)"
   ]
  },
  {
   "cell_type": "code",
   "execution_count": null,
   "metadata": {},
   "outputs": [],
   "source": [
    "im.norm.autoscale??"
   ]
  },
  {
   "cell_type": "code",
   "execution_count": null,
   "metadata": {},
   "outputs": [],
   "source": [
    "im.norm.vmin = arr.min()\n",
    "im.norm.vmax = arr.max()\n",
    "fig.canvas.draw()"
   ]
  },
  {
   "cell_type": "code",
   "execution_count": null,
   "metadata": {},
   "outputs": [],
   "source": [
    "def f(i):\n",
    "    return image_stack1[i] + i\n",
    "\n",
    "\n",
    "fig, ax, controls = interactive_imshow(f, i=np.arange(0, 50), cmap=\"plasma\")"
   ]
  },
  {
   "cell_type": "code",
   "execution_count": null,
   "metadata": {},
   "outputs": [],
   "source": [
    "im = ax._gci()"
   ]
  },
  {
   "cell_type": "code",
   "execution_count": null,
   "metadata": {},
   "outputs": [],
   "source": [
    "im.norm.vmin = 1\n",
    "im.norm.vmax = 6"
   ]
  },
  {
   "cell_type": "code",
   "execution_count": null,
   "metadata": {},
   "outputs": [],
   "source": [
    "im.norm._stale = True"
   ]
  }
 ],
 "metadata": {
  "kernelspec": {
   "display_name": "Python 3",
   "language": "python",
   "name": "python3"
  },
  "language_info": {
   "codemirror_mode": {
    "name": "ipython",
    "version": 3
   },
   "file_extension": ".py",
   "mimetype": "text/x-python",
   "name": "python",
   "nbconvert_exporter": "python",
   "pygments_lexer": "ipython3",
   "version": "3.8.5"
  }
 },
 "nbformat": 4,
 "nbformat_minor": 4
}
