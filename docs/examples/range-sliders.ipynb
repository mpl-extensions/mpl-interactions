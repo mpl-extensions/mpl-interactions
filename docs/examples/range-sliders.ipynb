{
 "cells": [
  {
   "cell_type": "markdown",
   "metadata": {},
   "source": [
    "# Using RangeSliders\n",
    "\n",
    "\n"
   ]
  },
  {
   "cell_type": "code",
   "execution_count": null,
   "metadata": {},
   "outputs": [],
   "source": [
    "%matplotlib ipympl\n",
    "import matplotlib.pyplot as plt\n",
    "import numpy as np\n",
    "\n",
    "from mpl_interactions import ipyplot as iplt"
   ]
  },
  {
   "attachments": {},
   "cell_type": "markdown",
   "metadata": {},
   "source": [
    "## How to automatically generate a RangeSlider\n",
    "\n",
    "In order to create a RangeSlider rather than a Slider you prefix the tuples with either `\"r\"` or `\"range\"`, then the rest of the tuple is created according to the rules from converting tuples to sliders. So arrays will remain arrays, or the values will be passed through to np.linspace as appropriate.\n",
    "```\n",
    "# passed through to np.linspace\n",
    "(\"range\", min, max, [num]) \n",
    "(\"r\", min, max, [num])\n",
    "\n",
    "# array used directly\n",
    "(\"range\", np.array)\n",
    "(\"r\", np.array)\n",
    "```\n",
    "\n",
    "then function can use them the same as any other kwargs, except now they are tuples rather than just numbers."
   ]
  },
  {
   "cell_type": "code",
   "execution_count": null,
   "metadata": {},
   "outputs": [],
   "source": [
    "def f_x(xrange, **kwargs):\n",
    "    return np.linspace(xrange[0], xrange[1], 1000)\n",
    "\n",
    "\n",
    "def f_y(x, tau, **kwargs):\n",
    "    return np.sin(x * tau)\n",
    "\n",
    "\n",
    "fig, ax = plt.subplots()\n",
    "controls = iplt.plot(f_x, f_y, xrange=(\"r\", -1, 3), tau=(5, 10))"
   ]
  },
  {
   "cell_type": "markdown",
   "metadata": {},
   "source": [
    "## Using a `RangeSlider` for Scalar arguments - Thresholding an Image\n",
    "\n",
    "There are some arguments, such as `vmin` and `vmax` that are both scalar and often make sense to have as two ends of a RangeSlider. For these, `mpl_interactions` treats them as a special case and offers a third argument `vmin_vmax` that can be used to control both `vmin` and `vmax` with a range slider.\n",
    "\n",
    "Additionally it will also add the `vmin` and `vmax` parameters individually to the controls object. This means that they can be used for other things, such as determinging the positions of the vertical lines on the histogram below. These are accessed by indexing the `controls` object. For more examples of controlling a scalar argument see [Scalar Arguments](scalar-arguments.ipynb)"
   ]
  },
  {
   "cell_type": "code",
   "execution_count": null,
   "metadata": {},
   "outputs": [],
   "source": [
    "N = 128\n",
    "im = np.random.randn(N * N).reshape(N, N)\n",
    "\n",
    "fig, axs = plt.subplots(1, 2, figsize=(12, 5))\n",
    "\n",
    "# plot histogram of pixel intensities\n",
    "axs[1].hist(im.flatten(), bins=\"auto\")\n",
    "axs[1].set_title(\"Histogram of Pixel Intensities\")\n",
    "\n",
    "# create interactive controls\n",
    "ctrls = iplt.imshow(im, vmin_vmax=(\"r\", im.min(), im.max()), ax=axs[0])\n",
    "iplt.axvline(ctrls[\"vmin\"], ax=axs[1], c=\"k\")\n",
    "_ = iplt.axvline(ctrls[\"vmax\"], ax=axs[1], c=\"k\")"
   ]
  },
  {
   "attachments": {},
   "cell_type": "markdown",
   "metadata": {},
   "source": [
    "## DEPRECATED+REMOVED - mpl_interactions `RangeSliders`\n",
    "\n",
    "Until version `3.4` `matplotlib` did not have a RangeSlider widget so this library provided one. Since `mpl-interactions` now depends on `matplotlib > 3.4` the `mpl-interactions` RangeSlider is no longer available.\n"
   ]
  }
 ],
 "metadata": {
  "kernelspec": {
   "display_name": "Python 3",
   "language": "python",
   "name": "python3"
  },
  "language_info": {
   "codemirror_mode": {
    "name": "ipython",
    "version": 3
   },
   "file_extension": ".py",
   "mimetype": "text/x-python",
   "name": "python",
   "nbconvert_exporter": "python",
   "pygments_lexer": "ipython3",
   "version": "3.9.0"
  }
 },
 "nbformat": 4,
 "nbformat_minor": 4
}
